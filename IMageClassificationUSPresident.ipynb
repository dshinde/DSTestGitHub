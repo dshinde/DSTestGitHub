{
  "nbformat": 4,
  "nbformat_minor": 0,
  "metadata": {
    "colab": {
      "provenance": [],
      "authorship_tag": "ABX9TyMsSlhK3md5IDA9QULDSu5N",
      "include_colab_link": true
    },
    "kernelspec": {
      "name": "python3",
      "display_name": "Python 3"
    },
    "language_info": {
      "name": "python"
    }
  },
  "cells": [
    {
      "cell_type": "markdown",
      "metadata": {
        "id": "view-in-github",
        "colab_type": "text"
      },
      "source": [
        "<a href=\"https://colab.research.google.com/github/dshinde/DSTestGitHub/blob/master/IMageClassificationUSPresident.ipynb\" target=\"_parent\"><img src=\"https://colab.research.google.com/assets/colab-badge.svg\" alt=\"Open In Colab\"/></a>"
      ]
    },
    {
      "cell_type": "code",
      "source": [
        "from google.colab import drive\n",
        "drive.mount('/content/drive/')"
      ],
      "metadata": {
        "colab": {
          "base_uri": "https://localhost:8080/"
        },
        "id": "3rQnyyNnAGsy",
        "outputId": "9e887190-c4ec-41a6-c278-e7bd8a98375d"
      },
      "execution_count": 1,
      "outputs": [
        {
          "output_type": "stream",
          "name": "stdout",
          "text": [
            "Mounted at /content/drive/\n"
          ]
        }
      ]
    },
    {
      "cell_type": "code",
      "execution_count": null,
      "metadata": {
        "id": "jIV-RzEpMRLB"
      },
      "outputs": [],
      "source": []
    },
    {
      "cell_type": "markdown",
      "source": [
        "# 1. Setup and Load Data"
      ],
      "metadata": {
        "id": "TBzDsKWoNOKJ"
      }
    },
    {
      "cell_type": "markdown",
      "source": [
        "Define hyperparameters\n",
        "num_classes = 4 batch_size = 16 epochs = 10 learning_rate = 0.001 device = torch.device(\"cuda\" if torch.cuda.is_available() else \"cpu\")\n",
        "\n",
        "Define data transformations\n",
        "transform = transforms.Compose([ transforms.Resize((224, 224)), transforms.ToTensor(), transforms.Normalize(mean=[0.485, 0.456, 0.406], std=[0.229, 0.224, 0.225]) ])\n",
        "\n",
        "Load dataset (Assuming dataset folder structure: data/train and data/val)\n",
        "train_dataset = datasets.ImageFolder(root=\"data/train\", transform=transform) val_dataset = datasets.ImageFolder(root=\"data/val\", transform=transform)\n",
        "\n",
        "train_loader = DataLoader(train_dataset, batch_size=batch_size, shuffle=True) val_loader = DataLoader(val_dataset, batch_size=batch_size, shuffle=False)"
      ],
      "metadata": {
        "id": "WxPHzBDdY547"
      }
    },
    {
      "cell_type": "markdown",
      "source": [],
      "metadata": {
        "id": "6G2JjpjHZVpZ"
      }
    },
    {
      "cell_type": "markdown",
      "source": [
        "## 1.1 Install Dependencies and Setup"
      ],
      "metadata": {
        "id": "QHakKqfBNT-p"
      }
    },
    {
      "cell_type": "code",
      "source": [
        "import torch\n",
        "import torch.nn as nn\n",
        "import torch.optim as optim\n",
        "from torchvision import datasets, models, transforms\n",
        "from torch.utils.data import DataLoader\n",
        "import os\n",
        "from PIL import Image\n",
        "\n",
        "# Set device\n",
        "device = torch.device(\"cuda\" if torch.cuda.is_available() else \"cpu\")\n",
        "\n",
        "# Data directories\n",
        "data_dir = \"/content/drive/MyDrive/Colab Notebooks/CNN Samples/PresidentImageClassification/data\"  # Replace with your dataset directory\n",
        "train_dir = os.path.join(data_dir, \"train\")\n",
        "val_dir = os.path.join(data_dir, \"val\")\n",
        "\n",
        "# Define transformations\n",
        "transform = {\n",
        "    \"train\": transforms.Compose([\n",
        "        transforms.Resize((224, 224)),\n",
        "        transforms.RandomHorizontalFlip(),\n",
        "        transforms.ToTensor(),\n",
        "        transforms.Normalize([0.485, 0.456, 0.406], [0.229, 0.224, 0.225])\n",
        "    ]),\n",
        "    \"val\": transforms.Compose([\n",
        "        transforms.Resize((224, 224)),\n",
        "        transforms.ToTensor(),\n",
        "        transforms.Normalize([0.485, 0.456, 0.406], [0.229, 0.224, 0.225])\n",
        "    ])\n",
        "}"
      ],
      "metadata": {
        "id": "Q3kVLz5CZdKE"
      },
      "execution_count": 2,
      "outputs": []
    },
    {
      "cell_type": "markdown",
      "source": [
        "## 1.2 Remove Dodgy Images from train and val folders"
      ],
      "metadata": {
        "id": "CZyoQGPnNaQx"
      }
    },
    {
      "cell_type": "code",
      "source": [
        "#Opensource library for computer vision\n",
        "import cv2\n",
        "# Checks file extension if it is valid image\n",
        "import imghdr\n",
        "image_exts = ['jpeg','jpg','bmp','png']\n",
        "\n",
        "## You will have to run it twice for train and val\n",
        "for image_class in os.listdir(val_dir):\n",
        "    for image in os.listdir(os.path.join(val_dir, image_class)):\n",
        "        image_path = os.path.join(val_dir, image_class, image)\n",
        "        try:\n",
        "            img = cv2.imread(image_path)\n",
        "            tip = imghdr.what(image_path)\n",
        "            if tip not in image_exts:\n",
        "                print('Image not in ext list {}'.format(image_path))\n",
        "                os.remove(image_path)\n",
        "        except Exception as e:\n",
        "            print('Issue with image {}'.format(image_path))\n",
        "            # os.remove(image_path)\n",
        "\n",
        "image_exts = ['jpeg','jpg','bmp','png']\n"
      ],
      "metadata": {
        "colab": {
          "base_uri": "https://localhost:8080/"
        },
        "id": "R7duKpBH6HTi",
        "outputId": "6a1f9e17-fa33-4ffe-aba7-fcbde0717d22"
      },
      "execution_count": 7,
      "outputs": [
        {
          "output_type": "stream",
          "name": "stdout",
          "text": [
            "Image not in ext list /content/drive/MyDrive/Colab Notebooks/CNN Samples/PresidentImageClassification/data/val/fdr/Franklin-D-Roosevelt-1937.jpg\n",
            "Image not in ext list /content/drive/MyDrive/Colab Notebooks/CNN Samples/PresidentImageClassification/data/val/obama/overview-Barack-Obama.jpg\n",
            "Image not in ext list /content/drive/MyDrive/Colab Notebooks/CNN Samples/PresidentImageClassification/data/val/obama/Michelle-Obama-portrait-first-lady-Blue-Room-2009.jpg\n",
            "Image not in ext list /content/drive/MyDrive/Colab Notebooks/CNN Samples/PresidentImageClassification/data/val/obama/MoS_PresidentBarackObama_colorcutout-600x600.webp\n",
            "Image not in ext list /content/drive/MyDrive/Colab Notebooks/CNN Samples/PresidentImageClassification/data/val/lincoln/small-archival-canvas-10195-24412-fm400.jpg\n",
            "Image not in ext list /content/drive/MyDrive/Colab Notebooks/CNN Samples/PresidentImageClassification/data/val/lincoln/President-Abraham-Lincoln-painting-George-Healy-1887-National-Portrait-Gallery.jpg\n",
            "Image not in ext list /content/drive/MyDrive/Colab Notebooks/CNN Samples/PresidentImageClassification/data/val/lincoln/portrait-abraham-lincoln-vector-illustration-600nw-2464397621.jpg\n",
            "Image not in ext list /content/drive/MyDrive/Colab Notebooks/CNN Samples/PresidentImageClassification/data/val/lincoln/pop-culture-Abraham-Lincoln.jpg\n",
            "Image not in ext list /content/drive/MyDrive/Colab Notebooks/CNN Samples/PresidentImageClassification/data/val/lincoln/overview-Abraham-Lincoln.jpg\n"
          ]
        }
      ]
    },
    {
      "cell_type": "markdown",
      "source": [
        "## 1.3 Load Data"
      ],
      "metadata": {
        "id": "ZtHLbTKVX4fl"
      }
    },
    {
      "cell_type": "code",
      "source": [
        "# Datasets and DataLoaders\n",
        "train_dataset = datasets.ImageFolder(train_dir, transform=transform[\"train\"])\n",
        "val_dataset = datasets.ImageFolder(val_dir, transform=transform[\"val\"])\n",
        "\n",
        "train_loader = DataLoader(train_dataset, batch_size=32, shuffle=True)\n",
        "val_loader = DataLoader(val_dataset, batch_size=32, shuffle=False)"
      ],
      "metadata": {
        "id": "pSGg4gQOD4A6"
      },
      "execution_count": 8,
      "outputs": []
    },
    {
      "cell_type": "markdown",
      "source": [
        "## 1.4 Show Train and Val impages on Plot"
      ],
      "metadata": {
        "id": "3OIi_i8SHktS"
      }
    },
    {
      "cell_type": "markdown",
      "source": [],
      "metadata": {
        "id": "ZRisKmPQY3wg"
      }
    },
    {
      "cell_type": "markdown",
      "source": [
        "# 2. Train and Eval Model"
      ],
      "metadata": {
        "id": "CJORHQJrYZzu"
      }
    },
    {
      "cell_type": "code",
      "source": [
        "# Load pre-trained model\n",
        "model = models.resnet18(pretrained=True)\n",
        "\n",
        "# Modify the last layer for 3 classes\n",
        "num_features = model.fc.in_features\n",
        "model.fc = nn.Linear(num_features, 3)\n",
        "model = model.to(device)\n",
        "\n",
        "# Loss and optimizer\n",
        "criterion = nn.CrossEntropyLoss()\n",
        "optimizer = optim.Adam(model.parameters(), lr=0.001)\n",
        "\n",
        "# Training function\n",
        "def train_model(model, train_loader, val_loader, criterion, optimizer, num_epochs=10):\n",
        "    for epoch in range(num_epochs):\n",
        "        print(f\"Epoch {epoch + 1}/{num_epochs}\")\n",
        "        print(\"-\" * 10)\n",
        "\n",
        "        # Training phase\n",
        "        model.train()\n",
        "        running_loss = 0.0\n",
        "        correct = 0\n",
        "        total = 0\n",
        "\n",
        "        for inputs, labels in train_loader:\n",
        "            inputs, labels = inputs.to(device), labels.to(device)\n",
        "\n",
        "            # Zero the parameter gradients\n",
        "            optimizer.zero_grad()\n",
        "\n",
        "            # Forward\n",
        "            outputs = model(inputs)\n",
        "            loss = criterion(outputs, labels)\n",
        "            loss.backward()\n",
        "            optimizer.step()\n",
        "\n",
        "            # Statistics\n",
        "            running_loss += loss.item() * inputs.size(0)\n",
        "            _, preds = torch.max(outputs, 1)\n",
        "            correct += (preds == labels).sum().item()\n",
        "            total += labels.size(0)\n",
        "\n",
        "        epoch_loss = running_loss / len(train_dataset)\n",
        "        epoch_acc = correct / total\n",
        "\n",
        "        print(f\"Train Loss: {epoch_loss:.4f} Acc: {epoch_acc:.4f}\")\n",
        "\n",
        "        # Validation phase\n",
        "        model.eval()\n",
        "        val_loss = 0.0\n",
        "        correct = 0\n",
        "        total = 0\n",
        "\n",
        "        with torch.no_grad():\n",
        "            for inputs, labels in val_loader:\n",
        "                inputs, labels = inputs.to(device), labels.to(device)\n",
        "                outputs = model(inputs)\n",
        "                loss = criterion(outputs, labels)\n",
        "                val_loss += loss.item() * inputs.size(0)\n",
        "                _, preds = torch.max(outputs, 1)\n",
        "                correct += (preds == labels).sum().item()\n",
        "                total += labels.size(0)\n",
        "\n",
        "        val_loss = val_loss / len(val_dataset)\n",
        "        val_acc = correct / total\n",
        "\n",
        "        print(f\"Val Loss: {val_loss:.4f} Acc: {val_acc:.4f}\\n\")\n",
        "\n",
        "    return model\n",
        "\n",
        "# Train the model\n",
        "model = train_model(model, train_loader, val_loader, criterion, optimizer, num_epochs=10)"
      ],
      "metadata": {
        "colab": {
          "base_uri": "https://localhost:8080/"
        },
        "id": "rO1L85T5Ec3w",
        "outputId": "93912796-f817-47f2-fdbf-94f6ff170ba7"
      },
      "execution_count": 9,
      "outputs": [
        {
          "output_type": "stream",
          "name": "stderr",
          "text": [
            "/usr/local/lib/python3.10/dist-packages/torchvision/models/_utils.py:208: UserWarning: The parameter 'pretrained' is deprecated since 0.13 and may be removed in the future, please use 'weights' instead.\n",
            "  warnings.warn(\n",
            "/usr/local/lib/python3.10/dist-packages/torchvision/models/_utils.py:223: UserWarning: Arguments other than a weight enum or `None` for 'weights' are deprecated since 0.13 and may be removed in the future. The current behavior is equivalent to passing `weights=ResNet18_Weights.IMAGENET1K_V1`. You can also use `weights=ResNet18_Weights.DEFAULT` to get the most up-to-date weights.\n",
            "  warnings.warn(msg)\n",
            "Downloading: \"https://download.pytorch.org/models/resnet18-f37072fd.pth\" to /root/.cache/torch/hub/checkpoints/resnet18-f37072fd.pth\n",
            "100%|██████████| 44.7M/44.7M [00:00<00:00, 137MB/s]\n"
          ]
        },
        {
          "output_type": "stream",
          "name": "stdout",
          "text": [
            "Epoch 1/10\n",
            "----------\n",
            "Train Loss: 0.6123 Acc: 0.7347\n",
            "Val Loss: 14.3958 Acc: 0.2214\n",
            "\n",
            "Epoch 2/10\n",
            "----------\n",
            "Train Loss: 0.9385 Acc: 0.7704\n",
            "Val Loss: 20.0072 Acc: 0.1643\n",
            "\n",
            "Epoch 3/10\n",
            "----------\n",
            "Train Loss: 0.2049 Acc: 0.9133\n",
            "Val Loss: 0.8431 Acc: 0.7929\n",
            "\n",
            "Epoch 4/10\n",
            "----------\n",
            "Train Loss: 0.3532 Acc: 0.8571\n",
            "Val Loss: 2.2282 Acc: 0.2571\n",
            "\n",
            "Epoch 5/10\n",
            "----------\n",
            "Train Loss: 0.4417 Acc: 0.8214\n",
            "Val Loss: 0.7867 Acc: 0.7429\n",
            "\n",
            "Epoch 6/10\n",
            "----------\n",
            "Train Loss: 0.2493 Acc: 0.9184\n",
            "Val Loss: 1.1140 Acc: 0.6929\n",
            "\n",
            "Epoch 7/10\n",
            "----------\n",
            "Train Loss: 0.1570 Acc: 0.9694\n",
            "Val Loss: 1.7249 Acc: 0.5357\n",
            "\n",
            "Epoch 8/10\n",
            "----------\n",
            "Train Loss: 0.3990 Acc: 0.9133\n",
            "Val Loss: 0.7894 Acc: 0.7643\n",
            "\n",
            "Epoch 9/10\n",
            "----------\n",
            "Train Loss: 0.3248 Acc: 0.8776\n",
            "Val Loss: 0.4591 Acc: 0.8714\n",
            "\n",
            "Epoch 10/10\n",
            "----------\n",
            "Train Loss: 0.2006 Acc: 0.9235\n",
            "Val Loss: 0.4500 Acc: 0.8500\n",
            "\n"
          ]
        }
      ]
    },
    {
      "cell_type": "markdown",
      "source": [
        "# 3. Save model"
      ],
      "metadata": {
        "id": "IgAkERanIbD9"
      }
    },
    {
      "cell_type": "code",
      "source": [
        "# Save the model\n",
        "model_path = \"president_classifier.pth\"\n",
        "torch.save(model.state_dict(), model_path)\n",
        "print(f\"Model saved to {model_path}\")"
      ],
      "metadata": {
        "colab": {
          "base_uri": "https://localhost:8080/"
        },
        "id": "YyAWyOOyIesD",
        "outputId": "1a8c22b0-c250-45b9-dc50-2346808d3cd0"
      },
      "execution_count": 12,
      "outputs": [
        {
          "output_type": "stream",
          "name": "stdout",
          "text": [
            "Model saved to president_classifier.pth\n"
          ]
        }
      ]
    },
    {
      "cell_type": "markdown",
      "source": [
        "# 4. Test Model"
      ],
      "metadata": {
        "id": "A2ZG0sWTInsx"
      }
    },
    {
      "cell_type": "code",
      "source": [
        "# Test the model with a sample image\n",
        "def test_model(model, image_path):\n",
        "    model.eval()\n",
        "    image = Image.open(image_path).convert(\"RGB\")\n",
        "    transform_test = transforms.Compose([\n",
        "        transforms.Resize((224, 224)),\n",
        "        transforms.ToTensor(),\n",
        "        transforms.Normalize([0.485, 0.456, 0.406], [0.229, 0.224, 0.225])\n",
        "    ])\n",
        "\n",
        "    image = transform_test(image).unsqueeze(0).to(device)\n",
        "\n",
        "    with torch.no_grad():\n",
        "        outputs = model(image)\n",
        "        _, preds = torch.max(outputs, 1)\n",
        "\n",
        "    classes = train_dataset.classes\n",
        "    print(f\"Predicted: {classes[preds.item()]}\")\n",
        "\n",
        "# Test the model on a sample image\n",
        "test_image_path = \"/content/drive/MyDrive/Colab Notebooks/CNN Samples/PresidentImageClassification/data/FDRTest.jpg\"  # Replace with your test image path\n",
        "model.load_state_dict(torch.load(model_path))\n",
        "test_model(model, test_image_path)\n"
      ],
      "metadata": {
        "colab": {
          "base_uri": "https://localhost:8080/"
        },
        "id": "ma2UpPMfItic",
        "outputId": "d6e94994-b02f-47f6-c386-8e41609f7bc4"
      },
      "execution_count": 15,
      "outputs": [
        {
          "output_type": "stream",
          "name": "stderr",
          "text": [
            "<ipython-input-15-3e9e327bfca2>:22: FutureWarning: You are using `torch.load` with `weights_only=False` (the current default value), which uses the default pickle module implicitly. It is possible to construct malicious pickle data which will execute arbitrary code during unpickling (See https://github.com/pytorch/pytorch/blob/main/SECURITY.md#untrusted-models for more details). In a future release, the default value for `weights_only` will be flipped to `True`. This limits the functions that could be executed during unpickling. Arbitrary objects will no longer be allowed to be loaded via this mode unless they are explicitly allowlisted by the user via `torch.serialization.add_safe_globals`. We recommend you start setting `weights_only=True` for any use case where you don't have full control of the loaded file. Please open an issue on GitHub for any issues related to this experimental feature.\n",
            "  model.load_state_dict(torch.load(model_path))\n"
          ]
        },
        {
          "output_type": "stream",
          "name": "stdout",
          "text": [
            "Predicted: fdr\n"
          ]
        }
      ]
    }
  ]
}
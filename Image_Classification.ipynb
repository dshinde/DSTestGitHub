{
  "metadata": {
    "kernelspec": {
      "language": "python",
      "display_name": "Python 3",
      "name": "python3"
    },
    "language_info": {
      "name": "python",
      "version": "3.10.12",
      "mimetype": "text/x-python",
      "codemirror_mode": {
        "name": "ipython",
        "version": 3
      },
      "pygments_lexer": "ipython3",
      "nbconvert_exporter": "python",
      "file_extension": ".py"
    },
    "kaggle": {
      "accelerator": "none",
      "dataSources": [],
      "dockerImageVersionId": 30822,
      "isInternetEnabled": false,
      "language": "python",
      "sourceType": "notebook",
      "isGpuEnabled": false
    },
    "colab": {
      "name": "Image Classification",
      "provenance": [],
      "include_colab_link": true
    }
  },
  "nbformat_minor": 0,
  "nbformat": 4,
  "cells": [
    {
      "cell_type": "markdown",
      "metadata": {
        "id": "view-in-github",
        "colab_type": "text"
      },
      "source": [
        "<a href=\"https://colab.research.google.com/github/dshinde/DSTestGitHub/blob/master/Image_Classification.ipynb\" target=\"_parent\"><img src=\"https://colab.research.google.com/assets/colab-badge.svg\" alt=\"Open In Colab\"/></a>"
      ]
    },
    {
      "cell_type": "markdown",
      "source": [
        "# 1. Setup and Load Data"
      ],
      "metadata": {
        "id": "MZSw4PR_KBnP"
      }
    },
    {
      "cell_type": "markdown",
      "source": [
        "## 1.1 Install Dependencies and Setup"
      ],
      "metadata": {
        "id": "M3s48Uk4KBnQ"
      }
    },
    {
      "cell_type": "code",
      "source": [
        "!pip install tensorflow tensorflow-gpu opencv-python matplotlib"
      ],
      "metadata": {
        "trusted": true,
        "execution": {
          "iopub.status.busy": "2025-01-05T20:07:24.467013Z",
          "iopub.execute_input": "2025-01-05T20:07:24.467347Z",
          "iopub.status.idle": "2025-01-05T20:09:52.239135Z",
          "shell.execute_reply.started": "2025-01-05T20:07:24.467321Z",
          "shell.execute_reply": "2025-01-05T20:09:52.237814Z"
        },
        "id": "mQc9M67QKBnQ",
        "outputId": "6e9ec3fd-5a41-4e6f-bdfa-f681f28c24d5"
      },
      "outputs": [
        {
          "name": "stdout",
          "text": "Requirement already satisfied: tensorflow in /usr/local/lib/python3.10/dist-packages (2.17.0)\n\u001b[33mWARNING: Retrying (Retry(total=4, connect=None, read=None, redirect=None, status=None)) after connection broken by 'NewConnectionError('<pip._vendor.urllib3.connection.HTTPSConnection object at 0x7ed2fcb5fd30>: Failed to establish a new connection: [Errno -3] Temporary failure in name resolution')': /simple/tensorflow-gpu/\u001b[0m\u001b[33m\n\u001b[0m\u001b[33mWARNING: Retrying (Retry(total=3, connect=None, read=None, redirect=None, status=None)) after connection broken by 'NewConnectionError('<pip._vendor.urllib3.connection.HTTPSConnection object at 0x7ed2fcb8c0d0>: Failed to establish a new connection: [Errno -3] Temporary failure in name resolution')': /simple/tensorflow-gpu/\u001b[0m\u001b[33m\n\u001b[0m\u001b[33mWARNING: Retrying (Retry(total=2, connect=None, read=None, redirect=None, status=None)) after connection broken by 'NewConnectionError('<pip._vendor.urllib3.connection.HTTPSConnection object at 0x7ed2fcb8c340>: Failed to establish a new connection: [Errno -3] Temporary failure in name resolution')': /simple/tensorflow-gpu/\u001b[0m\u001b[33m\n\u001b[0m\u001b[33mWARNING: Retrying (Retry(total=1, connect=None, read=None, redirect=None, status=None)) after connection broken by 'NewConnectionError('<pip._vendor.urllib3.connection.HTTPSConnection object at 0x7ed2fcb8c520>: Failed to establish a new connection: [Errno -3] Temporary failure in name resolution')': /simple/tensorflow-gpu/\u001b[0m\u001b[33m\n\u001b[0m^C\n",
          "output_type": "stream"
        }
      ],
      "execution_count": null
    },
    {
      "cell_type": "markdown",
      "source": [],
      "metadata": {
        "id": "A6DiGGx1KBnQ"
      }
    },
    {
      "cell_type": "code",
      "source": [
        "!pip list"
      ],
      "metadata": {
        "trusted": true,
        "execution": {
          "iopub.status.busy": "2025-01-05T20:09:54.518608Z",
          "iopub.execute_input": "2025-01-05T20:09:54.519004Z",
          "iopub.status.idle": "2025-01-05T20:09:56.474989Z",
          "shell.execute_reply.started": "2025-01-05T20:09:54.518967Z",
          "shell.execute_reply": "2025-01-05T20:09:56.473707Z"
        },
        "id": "RqV7yUvPKBnQ",
        "outputId": "569ea39a-7bd9-4a7e-f7bb-838e7d18a4d1"
      },
      "outputs": [
        {
          "name": "stdout",
          "text": "Package                          Version               Editable project location\n-------------------------------- --------------------- -------------------------\nabsl-py                          1.4.0\naccelerate                       0.34.2\naiofiles                         22.1.0\naiohappyeyeballs                 2.4.0\naiohttp                          3.10.5\naiosignal                        1.3.1\naiosqlite                        0.20.0\nalabaster                        0.7.16\nalbucore                         0.0.16\nalbumentations                   1.4.15\nalembic                          1.14.0\naltair                           5.5.0\nannotated-types                  0.7.0\nannoy                            1.17.3\nansicolors                       1.1.8\nantlr4-python3-runtime           4.9.3\nanyio                            3.7.1\nargon2-cffi                      23.1.0\nargon2-cffi-bindings             21.2.0\nargs                             0.1.0\narray_record                     0.5.1\narrow                            1.3.0\narviz                            0.19.0\nastropy                          6.1.3\nastropy-iers-data                0.2024.9.16.0.32.21\nasttokens                        3.0.0\nastunparse                       1.6.3\nasync-timeout                    4.0.3\natpublic                         4.1.0\nattrs                            24.2.0\naudioread                        3.0.1\nautograd                         1.7.0\nbabel                            2.16.0\nbackcall                         0.2.0\nbayesian-optimization            2.0.1\nbeautifulsoup4                   4.12.3\nbidict                           0.23.1\nbigframes                        1.17.0\nbigquery-magics                  0.2.0\nbleach                           6.1.0\nblinker                          1.4\nblis                             0.7.11\nblobfile                         3.0.0\nblosc2                           2.0.0\nbokeh                            3.4.3\nBoruta                           0.4.3\nboto3                            1.35.83\nbotocore                         1.35.83\nbq_helper                        0.4.1                 /root/src/BigQuery_Helper\nbqplot                           0.12.43\nbranca                           0.7.2\nbuild                            1.2.2\nCacheControl                     0.14.0\ncachetools                       5.5.0\nCartopy                          0.24.1\ncatalogue                        2.0.10\ncatboost                         1.2.7\ncategory-encoders                2.6.4\ncertifi                          2024.8.30\ncesium                           0.12.1\ncffi                             1.17.1\nchardet                          5.2.0\ncharset-normalizer               3.3.2\nChessnut                         0.4.1\nchex                             0.1.86\nclarabel                         0.9.0\nclick                            8.1.7\nclick-plugins                    1.1.1\ncligj                            0.7.2\nclint                            0.5.1\ncloudpathlib                     0.19.0\ncloudpickle                      3.1.0\ncmake                            3.30.3\ncmdstanpy                        1.2.4\ncolorama                         0.4.6\ncolorcet                         3.1.0\ncolorlog                         6.9.0\ncolorlover                       0.3.0\ncolour                           0.1.5\ncomm                             0.2.2\ncommunity                        1.0.0b1\nconfection                       0.1.5\ncons                             0.4.6\ncontextlib2                      21.6.0\ncontourpy                        1.3.0\ncoverage                         7.6.9\ncryptography                     43.0.1\ncuda-python                      12.2.1\ncudf-cu12                        24.4.1\ncufflinks                        0.17.3\ncupy-cuda12x                     12.2.0\ncvxopt                           1.3.2\ncvxpy                            1.5.3\ncycler                           0.12.1\ncymem                            2.0.8\nCython                           3.0.11\ncytoolz                          1.0.1\ndaal                             2025.0.1\ndacite                           1.8.1\ndask                             2024.12.1\ndask-expr                        1.1.21\ndataclasses-json                 0.6.7\ndatascience                      0.17.6\ndatasets                         3.2.0\ndatashader                       0.16.3\ndb-dtypes                        1.3.0\ndbus-python                      1.2.18\ndeap                             1.4.1\ndebugpy                          1.6.6\ndecorator                        4.4.2\ndeepdiff                         8.1.1\ndefusedxml                       0.7.1\nDeprecated                       1.2.15\ndill                             0.3.8\ndipy                             1.10.0\ndistributed                      2024.8.0\ndistro                           1.7.0\ndlib                             19.24.2\ndm-tree                          0.1.8\ndnspython                        2.7.0\ndocker                           7.1.0\ndocker-pycreds                   0.4.0\ndocstring_parser                 0.16\ndocstring-to-markdown            0.15\ndocutils                         0.18.1\ndopamine_rl                      4.0.9\nduckdb                           1.1.0\nearthengine-api                  1.0.0\neasydict                         1.13\neasyocr                          1.7.2\necos                             2.0.14\neditdistance                     0.8.1\neerepr                           0.0.4\neinops                           0.8.0\neli5                             0.13.0\nemoji                            2.14.0\nen-core-web-sm                   3.7.1\nentrypoints                      0.4\net-xmlfile                       1.1.0\netils                            1.9.4\netuples                          0.3.9\neval_type_backport               0.2.0\nexceptiongroup                   1.2.2\nexecnb                           0.1.11\nFarama-Notifications             0.0.4\nfastai                           2.7.17\nfastcore                         1.7.27\nfastdownload                     0.0.7\nfastjsonschema                   2.20.0\nfastprogress                     1.0.3\nfastrlock                        0.8.2\nfasttext                         0.9.3\nfeaturetools                     1.31.0\nfilelock                         3.16.1\nfiona                            1.10.1\nfirebase-admin                   6.5.0\nFlask                            2.2.5\nflatbuffers                      24.3.25\nflax                             0.8.4\nfolium                           0.17.0\nfonttools                        4.53.1\nfqdn                             1.5.1\nfrozendict                       2.4.4\nfrozenlist                       1.4.1\nfsspec                           2024.6.1\nfuncy                            2.0\nfury                             0.12.0\nfuture                           1.0.0\nfuzzywuzzy                       0.18.0\ngast                             0.6.0\ngatspy                           0.3\ngcsfs                            2024.6.1\nGDAL                             3.6.4\ngdown                            5.2.0\ngeemap                           0.34.2\ngensim                           4.3.3\ngeocoder                         1.38.1\ngeographiclib                    2.0\ngeojson                          3.1.0\ngeopandas                        0.14.4\ngeopy                            2.4.1\nghapi                            1.0.6\ngin-config                       0.5.0\ngitdb                            4.0.11\nGitPython                        3.1.43\nglob2                            0.7\ngoogle                           2.0.3\ngoogle-ai-generativelanguage     0.6.6\ngoogle-api-core                  1.34.1\ngoogle-api-python-client         2.137.0\ngoogle-auth                      2.27.0\ngoogle-auth-httplib2             0.2.0\ngoogle-auth-oauthlib             1.2.1\ngoogle-cloud-aiplatform          1.67.1\ngoogle-cloud-automl              1.0.1\ngoogle-cloud-bigquery            3.25.0\ngoogle-cloud-bigquery-connection 1.15.5\ngoogle-cloud-bigtable            2.26.0\ngoogle-cloud-core                2.4.1\ngoogle-cloud-datastore           2.19.0\ngoogle-cloud-firestore           2.16.1\ngoogle-cloud-functions           1.16.5\ngoogle-cloud-iam                 2.15.2\ngoogle-cloud-language            2.13.4\ngoogle-cloud-pubsub              2.23.1\ngoogle-cloud-resource-manager    1.12.5\ngoogle-cloud-storage             2.8.0\ngoogle-cloud-translate           3.12.1\ngoogle-cloud-videointelligence   2.15.0\ngoogle-cloud-vision              3.9.0\ngoogle-colab                     1.0.0\ngoogle-crc32c                    1.6.0\ngoogle-genai                     0.3.0\ngoogle-generativeai              0.7.2\ngoogle-pasta                     0.2.0\ngoogle-resumable-media           2.7.2\ngoogleapis-common-protos         1.65.0\ngoogledrivedownloader            0.4\ngpxpy                            1.6.2\ngraphviz                         0.20.3\ngreenlet                         3.1.0\ngrpc-google-iam-v1               0.13.1\ngrpcio                           1.64.1\ngrpcio-status                    1.48.2\ngspread                          6.0.2\ngspread-dataframe                3.3.1\ngym                              0.25.2\ngym-notices                      0.0.8\ngymnasium                        0.29.0\nh2o                              3.46.0.6\nh5netcdf                         1.3.0\nh5py                             3.11.0\nhaversine                        2.9.0\nhep_ml                           0.7.3\nholidays                         0.57\nholoviews                        1.19.1\nhtml5lib                         1.1\nhtmlmin                          0.1.12\nhttpimport                       1.4.0\nhttplib2                         0.22.0\nhuggingface-hub                  0.24.7\nhumanize                         4.10.0\nhyperopt                         0.2.7\nibis-framework                   8.0.0\nidna                             3.10\nigraph                           0.11.8\nImageHash                        4.3.1\nimageio                          2.35.1\nimageio-ffmpeg                   0.5.1\nimagesize                        1.4.1\nimbalanced-learn                 0.12.3\nimgaug                           0.4.0\nimmutabledict                    4.2.0\nimportlib_metadata               8.5.0\nimportlib_resources              6.4.5\nimutils                          0.5.4\ninflect                          7.4.0\niniconfig                        2.0.0\nintel-cmplr-lib-ur               2024.2.1\nintel-openmp                     2024.2.1\nipyevents                        2.0.2\nipyfilechooser                   0.6.0\nipykernel                        5.5.6\nipyleaflet                       0.19.2\nipympl                           0.9.5\nipyparallel                      8.8.0\nipython                          7.34.0\nipython-genutils                 0.2.0\nipython-sql                      0.5.0\nipytree                          0.2.2\nipywidgets                       8.1.5\nisoduration                      20.11.0\nisoweek                          1.3.3\nitsdangerous                     2.2.0\nJanome                           0.5.0\njax                              0.4.26\njaxlib                           0.4.26+cuda12.cudnn89\njedi                             0.19.2\njeepney                          0.7.1\njellyfish                        1.1.0\njieba                            0.42.1\nJinja2                           3.1.4\njmespath                         1.0.1\njoblib                           1.4.2\njson5                            0.10.0\njsonpickle                       3.3.0\njsonpointer                      3.0.0\njsonschema                       4.23.0\njsonschema-specifications        2023.12.1\njupyter_client                   8.6.3\njupyter-console                  6.1.0\njupyter_core                     5.7.2\njupyter-events                   0.11.0\njupyter-leaflet                  0.19.2\njupyter-lsp                      1.5.1\njupyter_server                   2.12.5\njupyter_server_fileid            0.9.3\njupyter_server_terminals         0.5.3\njupyter_server_ydoc              0.8.0\njupyter-ydoc                     0.2.5\njupyterlab                       3.6.8\njupyterlab-lsp                   3.10.2\njupyterlab_pygments              0.3.0\njupyterlab_server                2.27.3\njupyterlab_widgets               3.0.13\nkaggle                           1.6.17\nkaggle-environments              1.16.10\nkagglehub                        0.3.5\nkeras                            3.4.1\nkeras-core                       0.1.7\nkeras-cv                         0.9.0\nkeras-hub                        0.18.1\nkeras-nlp                        0.18.1\nkeras-tuner                      1.4.7\nkeyring                          23.5.0\nkiwisolver                       1.4.7\nkornia                           0.7.4\nkornia_rs                        0.1.7\nkt-legacy                        1.0.5\nlangcodes                        3.4.0\nlangid                           1.1.6\nlanguage_data                    1.2.0\nlaunchpadlib                     1.10.16\nlazr.restfulclient               0.14.4\nlazr.uri                         1.0.6\nlazy_loader                      0.4\nlearntools                       0.3.4\nleven                            1.0.4\nlibclang                         18.1.1\nlibpysal                         4.9.2\nlibrosa                          0.10.2.post1\nlightgbm                         4.5.0\nlightning-utilities              0.11.9\nlime                             0.2.0.1\nline_profiler                    4.2.0\nlinkify-it-py                    2.0.3\nllvmlite                         0.43.0\nlml                              0.1.0\nlocket                           1.0.0\nlogical-unification              0.4.6\nlxml                             4.9.4\nMako                             1.3.8\nmamba                            0.11.3\nmarisa-trie                      1.2.0\nMarkdown                         3.7\nmarkdown-it-py                   3.0.0\nMarkupSafe                       2.1.5\nmarshmallow                      3.23.1\nmatplotlib                       3.7.1\nmatplotlib-inline                0.1.7\nmatplotlib-venn                  1.1.1\nmdit-py-plugins                  0.4.2\nmdurl                            0.1.2\nminiKanren                       1.0.3\nmissingno                        0.5.2\nmistune                          0.8.4\nmizani                           0.11.4\nmkl                              2024.2.2\nml-dtypes                        0.4.1\nmlcrate                          0.2.0\nmlxtend                          0.23.1\nmne                              1.8.0\nmore-itertools                   10.5.0\nmoviepy                          1.0.3\nmpld3                            0.5.10\nmpmath                           1.3.0\nmsgpack                          1.0.8\nmultidict                        6.1.0\nmultimethod                      1.12\nmultipledispatch                 1.0.0\nmultiprocess                     0.70.16\nmultitasking                     0.0.11\nmurmurhash                       1.0.10\nmusic21                          9.1.0\nmypy-extensions                  1.0.0\nnamex                            0.0.8\nnarwhals                         1.18.4\nnatsort                          8.4.0\nnbclassic                        1.1.0\nnbclient                         0.5.13\nnbconvert                        6.4.5\nnbdev                            2.3.34\nnbformat                         5.10.4\nnest-asyncio                     1.6.0\nnetworkx                         3.3\nnibabel                          5.2.1\nnilearn                          0.10.4\nninja                            1.11.1.3\nnltk                             3.2.4\nnose                             1.3.7\nnotebook                         6.5.4\nnotebook_shim                    0.2.4\nnumba                            0.60.0\nnumexpr                          2.10.1\nnumpy                            1.26.4\nnvidia-nccl-cu12                 2.23.4\nnvtx                             0.2.10\noauth2client                     4.1.3\noauthlib                         3.2.2\nodfpy                            1.4.1\nolefile                          0.47\nomegaconf                        2.3.0\nonnx                             1.17.0\nopencv-contrib-python            4.10.0.84\nopencv-python                    4.10.0.84\nopencv-python-headless           4.10.0.84\nopenpyxl                         3.1.5\nopenslide-bin                    4.0.0.6\nopenslide-python                 1.4.1\nopt-einsum                       3.3.0\noptax                            0.2.2\noptree                           0.12.1\noptuna                           4.1.0\norbax-checkpoint                 0.6.4\norderly-set                      5.2.3\nosqp                             0.6.7.post0\noverrides                        7.7.0\npackaging                        24.1\npandas                           2.1.4\npandas-datareader                0.10.0\npandas-gbq                       0.23.1\npandas-profiling                 3.6.6\npandas-stubs                     2.1.4.231227\npandasql                         0.7.3\npandocfilters                    1.5.1\npanel                            1.4.5\npapermill                        2.6.0\nparam                            2.1.1\nparso                            0.8.4\nparsy                            2.1\npartd                            1.4.2\npath                             17.0.0\npath.py                          12.5.0\npathlib                          1.0.1\npathos                           0.3.2\npatsy                            0.5.6\npdf2image                        1.17.0\npeewee                           3.17.6\npettingzoo                       1.24.0\npexpect                          4.9.0\nphik                             0.12.4\npickleshare                      0.7.5\npillow                           10.4.0\npip                              24.1.2\npip-tools                        7.4.1\nplatformdirs                     4.3.6\nplotly                           5.24.1\nplotly-express                   0.4.1\nplotnine                         0.13.6\npluggy                           1.5.0\npolars                           1.6.0\npooch                            1.8.2\nportpicker                       1.5.2\npox                              0.3.5\nppft                             1.7.6.9\nprefetch_generator               1.0.3\npreprocessing                    0.1.13\npreshed                          3.0.9\nprettytable                      3.11.0\nproglog                          0.1.10\nprogressbar2                     4.5.0\nprometheus_client                0.20.0\npromise                          2.3\nprompt_toolkit                   3.0.47\nprophet                          1.1.5\nproto-plus                       1.24.0\nprotobuf                         3.20.3\npsutil                           5.9.5\npsycopg2                         2.9.9\nptyprocess                       0.7.0\npudb                             2024.1.3\npy-cpuinfo                       9.0.0\npy4j                             0.10.9.7\npyaml                            24.12.1\nPyArabic                         0.6.15\npyarrow                          18.1.0\npyarrow-hotfix                   0.6\npyasn1                           0.6.1\npyasn1_modules                   0.4.1\npybind11                         2.13.6\npyclipper                        1.3.0.post6\npycocotools                      2.0.8\npycparser                        2.22\npycryptodome                     3.21.0\npycryptodomex                    3.21.0\npyct                             0.5.0\npydantic                         2.9.2\npydantic_core                    2.23.4\npydata-google-auth               1.8.2\npydegensac                       0.1.2\npydicom                          3.0.1\npydot                            3.0.1\npydot-ng                         2.0.0\npydotplus                        2.0.2\nPyDrive                          1.3.1\nPyDrive2                         1.20.0\npydub                            0.25.1\npyemd                            1.0.0\npyerfa                           2.0.1.4\npyexcel-io                       0.6.7\npyexcel-ods                      0.6.0\npygame                           2.6.0\npygltflib                        1.16.3\nPygments                         2.18.0\nPyGObject                        3.42.1\nPyJWT                            2.9.0\npyLDAvis                         3.4.1\npymc                             5.16.2\npymc3                            3.11.4\npymongo                          4.10.1\nPympler                          1.1\npymystem3                        0.2.0\npynvjitlink-cu12                 0.3.0\npyogrio                          0.9.0\nPyOpenGL                         3.1.7\npyOpenSSL                        24.2.1\npyparsing                        3.1.4\npypdf                            5.1.0\npyperclip                        1.9.0\npyproj                           3.6.1\npyproject_hooks                  1.1.0\npyshp                            2.3.1\nPySocks                          1.7.1\npytensor                         2.25.4\npytesseract                      0.3.13\npytest                           7.4.4\npython-apt                       2.4.0\npython-bidi                      0.6.3\npython-box                       7.2.0\npython-dateutil                  2.8.2\npython-json-logger               3.2.1\npython-louvain                   0.16\npython-lsp-jsonrpc               1.1.2\npython-lsp-server                1.12.0\npython-slugify                   8.0.4\npython-utils                     3.8.2\npytorch-ignite                   0.5.1\npytorch-lightning                2.4.0\npytz                             2024.2\nPyUpSet                          0.1.1.post7\npyviz_comms                      3.0.3\nPyWavelets                       1.8.0\nPyYAML                           6.0.2\npyzmq                            24.0.1\nqdldl                            0.1.7.post4\nqgrid                            1.3.1\nqtconsole                        5.6.1\nQtPy                             2.4.2\nratelim                          0.1.6\nray                              2.40.0\nreferencing                      0.35.1\nregex                            2024.9.11\nrequests                         2.32.3\nrequests-oauthlib                1.3.1\nrequirements-parser              0.9.0\nrfc3339-validator                0.1.4\nrfc3986-validator                0.1.1\nrgf-python                       3.12.0\nrich                             13.8.1\nrmm-cu12                         24.4.0\nrpds-py                          0.20.0\nrpy2                             3.4.2\nrsa                              4.9\nRtree                            1.3.0\ns3fs                             0.4.2\ns3transfer                       0.10.4\nsafetensors                      0.4.5\nscikit-image                     0.24.0\nscikit-learn                     1.2.2\nscikit-learn-intelex             2025.0.1\nscikit-multilearn                0.2.0\nscikit-optimize                  0.10.2\nscikit-plot                      0.3.7\nscikit-surprise                  1.1.4\nscipy                            1.13.1\nscooby                           0.10.0\nscs                              3.2.7\nseaborn                          0.12.2\nSecretStorage                    3.3.1\nsegment_anything                 1.0\nsemver                           3.0.2\nSend2Trash                       1.8.3\nsentencepiece                    0.2.0\nsentry-sdk                       2.19.2\nsetproctitle                     1.3.4\nsetuptools                       71.0.4\nsetuptools-scm                   8.1.0\nshap                             0.44.1\nshapely                          2.0.6\nshellingham                      1.5.4\nShimmy                           1.3.0\nsimple-parsing                   0.1.6\nSimpleITK                        2.4.0\nsix                              1.16.0\nsklearn-pandas                   2.2.0\nslicer                           0.0.7\nsmart-open                       7.0.4\nsmmap                            5.0.1\nsniffio                          1.3.1\nsnowballstemmer                  2.2.0\nsortedcontainers                 2.4.0\nsoundfile                        0.12.1\nsoupsieve                        2.6\nsoxr                             0.5.0.post1\nspacy                            3.7.6\nspacy-legacy                     3.0.12\nspacy-loggers                    1.0.5\nSphinx                           5.0.2\nsphinx-rtd-theme                 0.2.4\nsphinxcontrib-applehelp          2.0.0\nsphinxcontrib-devhelp            2.0.0\nsphinxcontrib-htmlhelp           2.1.0\nsphinxcontrib-jsmath             1.0.1\nsphinxcontrib-qthelp             2.0.0\nsphinxcontrib-serializinghtml    2.0.0\nSQLAlchemy                       2.0.35\nsqlglot                          20.11.0\nsqlparse                         0.5.1\nsquarify                         0.4.4\nsrsly                            2.4.8\nstable-baselines3                2.1.0\nstanio                           0.5.1\nstatsmodels                      0.14.3\nstopit                           1.1.2\nStrEnum                          0.4.15\nstumpy                           1.13.0\nsympy                            1.13.3\ntables                           3.8.0\ntabulate                         0.9.0\ntbb                              2022.0.0\ntblib                            3.0.0\ntcmlib                           1.2.0\ntenacity                         9.0.0\ntensorboard                      2.17.0\ntensorboard-data-server          0.7.2\ntensorflow                       2.17.0\ntensorflow-cloud                 0.1.5\ntensorflow-datasets              4.9.6\ntensorflow_decision_forests      1.10.0\ntensorflow-hub                   0.16.1\ntensorflow-io                    0.37.1\ntensorflow-io-gcs-filesystem     0.37.1\ntensorflow-metadata              1.15.0\ntensorflow-probability           0.24.0\ntensorflow-text                  2.17.0\ntensorstore                      0.1.65\ntermcolor                        2.4.0\nterminado                        0.18.1\ntestpath                         0.6.0\ntext-unidecode                   1.3\ntextblob                         0.17.1\ntexttable                        1.7.0\ntf_keras                         2.17.0\ntf-slim                          1.1.0\nTheano                           1.0.5\nTheano-PyMC                      1.1.2\nthinc                            8.2.5\nthreadpoolctl                    3.5.0\ntifffile                         2024.8.30\ntiktoken                         0.8.0\ntimm                             1.0.12\ntinycss2                         1.3.0\ntokenizers                       0.19.1\ntoml                             0.10.2\ntomli                            2.0.1\ntoolz                            0.12.1\ntorch                            2.4.1+cu121\ntorchaudio                       2.4.1+cu121\ntorchinfo                        1.8.0\ntorchmetrics                     1.6.0\ntorchsummary                     1.5.1\ntorchtune                        0.4.0\ntorchvision                      0.19.1+cu121\ntornado                          6.3.3\nTPOT                             0.12.1\ntqdm                             4.66.5\ntraitlets                        5.7.1\ntraittypes                       0.2.1\ntransformers                     4.44.2\ntrx-python                       0.3\ntsfresh                          0.20.2\ntweepy                           4.14.0\ntypeguard                        4.3.0\ntyper                            0.12.5\ntypes-python-dateutil            2.9.0.20241206\ntypes-pytz                       2024.2.0.20240913\ntypes-setuptools                 75.1.0.20240917\ntyping_extensions                4.12.2\ntyping-inspect                   0.9.0\ntzdata                           2024.1\ntzlocal                          5.2\nuc-micro-py                      1.0.3\nujson                            5.10.0\nupdate-checker                   0.18.0\nuri-template                     1.3.0\nuritemplate                      4.1.1\nurllib3                          2.2.3\nurwid                            2.6.16\nurwid_readline                   0.15.1\nvega-datasets                    0.9.0\nvisions                          0.7.6\nvtk                              9.3.1\nwadllib                          1.3.6\nWand                             0.6.13\nwandb                            0.19.1\nwasabi                           1.1.3\nwatchdog                         6.0.0\nwavio                            0.0.9\nwcwidth                          0.2.13\nweasel                           0.4.1\nwebcolors                        24.8.0\nwebencodings                     0.5.1\nwebsocket-client                 1.8.0\nwebsockets                       14.1\nWerkzeug                         3.0.4\nwheel                            0.44.0\nwidgetsnbextension               4.0.13\nwoodwork                         0.31.0\nwordcloud                        1.9.3\nwrapt                            1.16.0\nwurlitzer                        3.1.1\nxarray                           2024.9.0\nxarray-einstats                  0.8.0\nxgboost                          2.0.3\nxlrd                             2.0.1\nxvfbwrapper                      0.2.9\nxxhash                           3.5.0\nxyzservices                      2024.9.0\ny-py                             0.6.2\nyarl                             1.11.1\nydata-profiling                  4.12.1\nydf                              0.9.0\nyellowbrick                      1.5\nyfinance                         0.2.43\nypy-websocket                    0.8.4\nzict                             3.0.0\nzipp                             3.20.2\n",
          "output_type": "stream"
        }
      ],
      "execution_count": null
    },
    {
      "cell_type": "code",
      "source": [
        "import tensorflow as tf\n",
        "import os"
      ],
      "metadata": {
        "trusted": true,
        "execution": {
          "iopub.status.busy": "2025-01-05T20:12:18.821825Z",
          "iopub.execute_input": "2025-01-05T20:12:18.822211Z",
          "iopub.status.idle": "2025-01-05T20:12:28.044771Z",
          "shell.execute_reply.started": "2025-01-05T20:12:18.822181Z",
          "shell.execute_reply": "2025-01-05T20:12:28.043586Z"
        },
        "id": "BRJ7qkoqKBnR"
      },
      "outputs": [],
      "execution_count": null
    },
    {
      "cell_type": "code",
      "source": [
        "#Not Required in Kaggle/Collab\n",
        "#gpus = tf.config.experimental.list_physical_devices('CPU')\n",
        "#gpus\n",
        "#for gpu in gpus:\n",
        "#    tf.config.experimental.set_memoty_growth(gpu, True)"
      ],
      "metadata": {
        "trusted": true,
        "execution": {
          "iopub.status.busy": "2025-01-05T20:18:27.298973Z",
          "iopub.execute_input": "2025-01-05T20:18:27.299333Z",
          "iopub.status.idle": "2025-01-05T20:18:27.30571Z",
          "shell.execute_reply.started": "2025-01-05T20:18:27.29931Z",
          "shell.execute_reply": "2025-01-05T20:18:27.304478Z"
        },
        "id": "jE3CS9mxKBnR",
        "outputId": "3fb8cce8-39d6-4df7-d3e9-a35daa2ddb2d"
      },
      "outputs": [
        {
          "execution_count": 4,
          "output_type": "execute_result",
          "data": {
            "text/plain": "[PhysicalDevice(name='/physical_device:CPU:0', device_type='CPU')]"
          },
          "metadata": {}
        }
      ],
      "execution_count": null
    },
    {
      "cell_type": "markdown",
      "source": [
        "## 1.2 Remove dodgy images"
      ],
      "metadata": {
        "id": "NuPfTn5JKBnR"
      }
    },
    {
      "cell_type": "markdown",
      "source": [
        "## 1.3 Load Data"
      ],
      "metadata": {
        "id": "wVmH62bQKBnR"
      }
    }
  ]
}